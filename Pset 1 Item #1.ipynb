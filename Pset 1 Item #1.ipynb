{
 "cells": [
  {
   "attachments": {},
   "cell_type": "markdown",
   "metadata": {},
   "source": [
    "<span style=\"font-family: 'Monocraft',Monospace; font-size:2.2em\"> \n",
    "Physics 191 - Probset 1, Item #4"
   ]
  },
  {
   "attachments": {},
   "cell_type": "markdown",
   "metadata": {},
   "source": [
    "<span style=\"font-family: 'Monocraft',Monospace; font-size:1em\"> \n",
    "Importing libraries"
   ]
  },
  {
   "cell_type": "code",
   "execution_count": 37,
   "metadata": {},
   "outputs": [],
   "source": [
    "#1.1 This\n",
    "import numpy as np\n",
    "import matplotlib.pyplot as plt\n",
    "from scipy.stats import gaussian_kde"
   ]
  },
  {
   "attachments": {},
   "cell_type": "markdown",
   "metadata": {},
   "source": [
    "<span style=\"font-family: 'Monocraft',Monospace; font-size:1em\"> \n",
    "Loading the dataset"
   ]
  },
  {
   "cell_type": "code",
   "execution_count": 38,
   "metadata": {},
   "outputs": [],
   "source": [
    "#2.1 We read the data as an array\n",
    "arr = np.loadtxt('data.csv')"
   ]
  },
  {
   "attachments": {},
   "cell_type": "markdown",
   "metadata": {},
   "source": [
    "<span style=\"font-family: 'Monocraft',Monospace; font-size:1em\"> \n",
    "\n",
    "\n",
    "Creating the `Histogram` and the `Kernel Density Estimate`"
   ]
  },
  {
   "cell_type": "code",
   "execution_count": 39,
   "metadata": {},
   "outputs": [],
   "source": [
    "#3.1 Setting up the Kernel Density Estimate\n",
    "KDE_x = np.linspace(np.min(arr) , np.max(arr) , 1000)\n",
    "Gaussian_x = gaussian_kde(arr)\n",
    "KDE_y = Gaussian_x(KDE_x)\n",
    "\n",
    "\n",
    "#3.2 Creating a function for the number of bins for the histogram \n",
    "def bins(x):\n",
    "    N = 2*((x.shape[0])**(1/3))\n",
    "    return int((N+1)//1)"
   ]
  },
  {
   "attachments": {},
   "cell_type": "markdown",
   "metadata": {},
   "source": [
    "<span style=\"font-family: 'Monocraft',Monospace; font-size:1em\"> \n",
    "Plotting"
   ]
  },
  {
   "cell_type": "code",
   "execution_count": 42,
   "metadata": {},
   "outputs": [
    {
     "data": {
      "text/plain": [
       "Text(0.5, 0, 'Events')"
      ]
     },
     "execution_count": 42,
     "metadata": {},
     "output_type": "execute_result"
    },
    {
     "data": {
      "image/png": "[encoded data removed]",
      "text/plain": [
       "<Figure size 432x288 with 1 Axes>"
      ]
     },
     "metadata": {
      "needs_background": "light"
     },
     "output_type": "display_data"
    }
   ],
   "source": [
    "fig , ax = plt.subplots()\n",
    "ax.hist(arr, bins = bins(df), density = True, label = 'Histogram')\n",
    "ax.plot(KDE_x, KDE_y, label = 'Kernel Density Estimate')\n",
    "ax.set_ylabel('Probability')\n",
    "ax.set_xlabel('Events')\n"
   ]
  }
 ],
 "metadata": {
  "kernelspec": {
   "display_name": "base",
   "language": "python",
   "name": "python3"
  },
  "language_info": {
   "codemirror_mode": {
    "name": "ipython",
    "version": 3
   },
   "file_extension": ".py",
   "mimetype": "text/x-python",
   "name": "python",
   "nbconvert_exporter": "python",
   "pygments_lexer": "ipython3",
   "version": "3.9.7"
  },
  "orig_nbformat": 4
 },
 "nbformat": 4,
 "nbformat_minor": 2
}
